{
  "nbformat": 4,
  "nbformat_minor": 0,
  "metadata": {
    "colab": {
      "name": "AlgorithmicToolboxWeek4_Group4",
      "provenance": []
    },
    "kernelspec": {
      "name": "python3",
      "display_name": "Python 3"
    },
    "language_info": {
      "name": "python"
    }
  },
  "cells": [
    {
      "cell_type": "markdown",
      "source": [
        "# **1. Binary Search**\n",
        "\n"
      ],
      "metadata": {
        "id": "UmXLxML1fkAh"
      }
    },
    {
      "cell_type": "code",
      "execution_count": 5,
      "metadata": {
        "colab": {
          "base_uri": "https://localhost:8080/"
        },
        "id": "_gL2YSmEfSyb",
        "outputId": "b10ed657-364a-4131-9d3b-d0cb7d728188"
      },
      "outputs": [
        {
          "output_type": "stream",
          "name": "stdout",
          "text": [
            "Writing binary_search.cpp\n"
          ]
        }
      ],
      "source": [
        "%%writefile binary_search.cpp\n",
        "#include <iostream>\n",
        "#include <vector>\n",
        "\n",
        "using namespace std;\n",
        "using std::vector;\n",
        "\n",
        "int BinarySearch(vector<int> Arr, int l, int u, int Target)\n",
        "{\n",
        "\n",
        "  while (l <= u)\n",
        "  {\n",
        "\n",
        "    int mid = (l + u) / 2;\n",
        "\n",
        "    if (Arr[mid] == Target)\n",
        "    {\n",
        "      return mid;\n",
        "    }\n",
        "    else if (Target < Arr[mid])\n",
        "    {\n",
        "      u = mid - 1;\n",
        "    }\n",
        "    else if (Target > Arr[mid])\n",
        "    {\n",
        "      l = mid + 1;\n",
        "    }\n",
        "  }\n",
        "  return -1;\n",
        "}\n",
        "\n",
        "void FindinFirst(vector<int> a, int n, vector<int> b, int m)\n",
        "{\n",
        "  for (int i = 0; i < m; i++)\n",
        "  {\n",
        "    if (b[i] > a[n - 1] || b[i] < a[0])\n",
        "    {\n",
        "      cout << -1 << \" \";\n",
        "    }\n",
        "    else\n",
        "    {\n",
        "      cout << BinarySearch(a, 0, n - 1, b[i]) << \" \";\n",
        "    }\n",
        "  }\n",
        "}\n",
        "\n",
        "int main()\n",
        "{\n",
        "  int n;\n",
        "  cin >> n;\n",
        "\n",
        "  vector<int> First(n);\n",
        "  for (int i = 0; i < n; i++)\n",
        "    cin >> First[i];\n",
        "\n",
        "  int k;\n",
        "  cin >> k;\n",
        "  vector<int> Second(k);\n",
        "  for (int i = 0; i < k; i++)\n",
        "    cin >> Second[i];\n",
        "\n",
        "  FindinFirst(First, n, Second, k);\n",
        "  return 0;\n",
        "}"
      ]
    },
    {
      "cell_type": "code",
      "source": [
        "!g++ binary_search.cpp -o binary_search\n",
        "!./binary_search"
      ],
      "metadata": {
        "id": "0mfZXrLGjdVv"
      },
      "execution_count": null,
      "outputs": []
    },
    {
      "cell_type": "markdown",
      "source": [
        "# **2. Binary Search with Duplicates**\n"
      ],
      "metadata": {
        "id": "cX-_4O-lfvCb"
      }
    },
    {
      "cell_type": "code",
      "source": [
        "seq = [int(i) for i in input().split()]\n",
        "search_seq = [int(i) for i in input().split()]\n",
        "n = seq[0]\n",
        "seq = seq[1:]\n",
        "\n",
        "def binary_search(seq, elt, r):\n",
        "    l = 0\n",
        "    while l<=r: \n",
        "        m = (l+r)//2\n",
        "        if elt > seq[m]:\n",
        "            l = m + 1\n",
        "        elif elt < seq[m]:\n",
        "            r = m - 1\n",
        "        else:\n",
        "            return m\n",
        "    return -1\n",
        "\n",
        "soln = list()\n",
        "for i in search_seq[1:]:\n",
        "    ans = binary_search(seq, i, n-1)\n",
        "    soln.append(ans)\n",
        "print(' '.join([str(i) for i in soln]))\n"
      ],
      "metadata": {
        "id": "KgFA_tqzfvf6"
      },
      "execution_count": null,
      "outputs": []
    },
    {
      "cell_type": "markdown",
      "source": [
        "# **3. Majority Element**"
      ],
      "metadata": {
        "id": "0iCe4_MUgD_w"
      }
    },
    {
      "cell_type": "code",
      "source": [
        "# python3\n",
        "n = int(input())\n",
        "seq = [int(i) for i in input().split()]\n",
        "\n",
        "\n",
        "def divide_func(seq, l, r):\n",
        "    if l+1==r:\n",
        "        return seq[l]\n",
        "    elif l+2==r:\n",
        "        return seq[l]\n",
        "    m = (l+r)//2\n",
        "    left = divide_func(seq, l, m)\n",
        "    right = divide_func(seq, m, r)\n",
        "\n",
        "    c1, c2 = 0, 0\n",
        "    for i in seq[l:r]:\n",
        "        if i == left:\n",
        "            c1+=1\n",
        "        elif i == right:\n",
        "            c2+=1\n",
        "    if c1>(r-l)//2 and left != -1:\n",
        "        return left\n",
        "    elif c2>(r-l)//2 and right != -1:\n",
        "        return right\n",
        "    else: \n",
        "        return -1\n",
        "\n",
        "print(int(divide_func(seq, 0, n) != -1))\n"
      ],
      "metadata": {
        "colab": {
          "base_uri": "https://localhost:8080/"
        },
        "id": "AZlXGzyygEep",
        "outputId": "fed5b566-240d-4c4c-cf73-ea3f7117c7f6"
      },
      "execution_count": 6,
      "outputs": [
        {
          "output_type": "stream",
          "name": "stdout",
          "text": [
            "2\n",
            "2 3\n",
            "1\n"
          ]
        }
      ]
    },
    {
      "cell_type": "markdown",
      "source": [
        "# **4. Improving QuickSort**"
      ],
      "metadata": {
        "id": "fJw5v8MXhIW7"
      }
    },
    {
      "cell_type": "code",
      "source": [
        "import random\n",
        "import time\n",
        "def quicksort3(arr, l, r):\n",
        "    # print('Splitting:', arr[l:r])\n",
        "    if l + 1 >= r:\n",
        "        return\n",
        "\n",
        "    # Pivot selection; Return a random integer N such that l <= N <= r\n",
        "    m = random.randint(l, r-1)\n",
        "    # temp = sorted([(0,arr[0]), ((l+r)//2,arr[(l+r)//2]), (-1,arr[-1])], key = lambda x: x[1])\n",
        "    # m = temp[1][0]\n",
        "    arr[l], arr[m] = arr[m], arr[l]\n",
        "\n",
        "    # partition procedure\n",
        "    m1, m2 = partition3(arr, l, r)\n",
        "\n",
        "    quicksort3(arr, l, m1)\n",
        "    quicksort3(arr, m2+1, r)\n",
        "\n",
        "def partition3(arr, l, r):\n",
        "    m2 = l\n",
        "    for i in range(l+1, r):\n",
        "        if arr[i] <= arr[l]:\n",
        "            arr[m2+1], arr[i] = arr[i], arr[m2+1]\n",
        "            m2 += 1\n",
        "\n",
        "    arr[l], arr[m2] = arr[m2], arr[l]\n",
        "\n",
        "    m1 = l\n",
        "    for i in range(l, m2):\n",
        "        if arr[i] < arr[m2]:\n",
        "            arr[i], arr[m1] = arr[m1], arr[i]\n",
        "            m1 += 1\n",
        "    return m1, m2\n",
        "\n",
        "def create_array(size):\n",
        "    return [random.choice(list(range(10))) for _ in range(size)]\n",
        "\n",
        "# n = int(input())\n",
        "# seq = [int(i) for i in input().split()]\n",
        "# for x in seq:\n",
        "    # print(x, end=' ')\n",
        "\n",
        "t1 = time.time()\n",
        "seq = create_array(100000)\n",
        "quicksort3(seq, 0, 100000)\n",
        "t2 = time.time()\n",
        "print('Time taken:', t2-t1)\n",
        "\n",
        "    \n",
        "\n"
      ],
      "metadata": {
        "colab": {
          "base_uri": "https://localhost:8080/"
        },
        "id": "wGIYdDrKhQYa",
        "outputId": "ab88ee40-cce5-4bf7-8740-5847ed549a97"
      },
      "execution_count": 7,
      "outputs": [
        {
          "output_type": "stream",
          "name": "stdout",
          "text": [
            "Time taken: 0.2553279399871826\n"
          ]
        }
      ]
    },
    {
      "cell_type": "markdown",
      "source": [
        "# **5. Inversions**\n"
      ],
      "metadata": {
        "id": "MsQe7QpkhLGV"
      }
    },
    {
      "cell_type": "code",
      "source": [
        "# python3\n",
        "\n",
        "\"\"\" Task: Count the number of inversions of a given sequence \"\"\"\n",
        "\n",
        "def merge(left, right):\n",
        "    i, j, inversion_counter = 0, 0, 0\n",
        "    final = list()\n",
        "    while i < len(left) and j< len(right):\n",
        "        if left[i] <= right[j]:\n",
        "            final.append(left[i])\n",
        "            i += 1\n",
        "        else:\n",
        "            final.append(right[j])\n",
        "            inversion_counter += len(left) - i\n",
        "            j += 1\n",
        "\n",
        "    final += left[i:]\n",
        "    final += right[j:]\n",
        "        \n",
        "    return final, inversion_counter\n",
        "\n",
        "def mergesort(arr):\n",
        "    global tot_count\n",
        "    if len(arr) <= 1:\n",
        "        return arr\n",
        "    mid = len(arr)//2\n",
        "\n",
        "    left = mergesort(arr[:mid])\n",
        "    right = mergesort(arr[mid:])\n",
        "\n",
        "    sorted_arr, temp = merge(left, right)\n",
        "    tot_count += temp\n",
        "\n",
        "    return sorted_arr\n",
        "\n",
        "tot_count = 0\n",
        "n = int(input())\n",
        "seq = [int(i) for i in input().split()]\n",
        "mergesort(seq)\n",
        "print(tot_count)"
      ],
      "metadata": {
        "id": "f-X8nuWAhYOp"
      },
      "execution_count": null,
      "outputs": []
    },
    {
      "cell_type": "markdown",
      "source": [
        "# **6.  Organizing a Lottery**\n",
        "\n"
      ],
      "metadata": {
        "id": "rnn81WX_hY0v"
      }
    },
    {
      "cell_type": "code",
      "source": [
        "\"\"\" Task: You are given a set of points on a line and a set of segments on a line. The goal is to compute, for each point, the number of segments that contain this point \"\"\"\n",
        "\n",
        "# Inputs\n",
        "master_list = list()\n",
        "s, p = [int(i) for i in input().split()]\n",
        "\n",
        "for i in range(s):\n",
        "    a, b = [int(i) for i in input().split()]\n",
        "    master_list.append((a,'l'))\n",
        "    master_list.append((b,'r'))\n",
        "\n",
        "points = input().split()\n",
        "for i in points:\n",
        "    master_list.append((int(i),'p'))\n",
        "\n",
        "master_list.sort()\n",
        "\n",
        "segment_count = 0\n",
        "point_segment_map = dict()\n",
        "for i in master_list:\n",
        "    if i[1] == 'l': segment_count += 1\n",
        "    elif i[1] == 'r': segment_count -= 1\n",
        "    else:\n",
        "        point_segment_map[i[0]] = segment_count\n",
        "\n",
        "temp = ''\n",
        "for i in points:\n",
        "    temp += str(point_segment_map[int(i)]) + ' '\n",
        "print(temp[:-1])"
      ],
      "metadata": {
        "id": "7uQ89PE4hfgU"
      },
      "execution_count": null,
      "outputs": []
    },
    {
      "cell_type": "markdown",
      "source": [
        "# **7. Closest Points**"
      ],
      "metadata": {
        "id": "GFFuJqjThgFU"
      }
    },
    {
      "cell_type": "code",
      "source": [
        "import math\n",
        "def dist(p1, p2):\n",
        "    return math.sqrt((p1[0] - p2[0]) ** 2 + (p1[1] - p2[1]) ** 2)\n",
        "\n",
        "def closest_split_pair(p_x, p_y, delta, best_pair):\n",
        "    ln_x = len(p_x)  # store length - quicker\n",
        "    mx_x = p_x[ln_x // 2][0]  # select midpoint on x-sorted array\n",
        "\n",
        "    # Create a subarray of points not further than delta from midpoint on x-sorted array\n",
        "    s_y = [x for x in p_y if mx_x - delta <= x[0] <= mx_x + delta]\n",
        "\n",
        "    best = delta  # assign delta value to best\n",
        "    ln_y = len(s_y)  # store length of subarray for quickness\n",
        "    for i in range(ln_y - 1):\n",
        "        for j in range(i+1, min(i + 5, ln_y)):    # We have to check only next 5 points; proof found in literature\n",
        "            p, q = s_y[i], s_y[j]\n",
        "            dst = dist(p, q)\n",
        "            if dst < best:\n",
        "                best_pair = p, q\n",
        "                best = dst\n",
        "    return best_pair[0], best_pair[1], best\n",
        "\n",
        "\n",
        "def brute(ax):\n",
        "    mi = dist(ax[0], ax[1])\n",
        "    p1 = ax[0]\n",
        "    p2 = ax[1]\n",
        "    ln_ax = len(ax)\n",
        "    if ln_ax == 2:\n",
        "        return p1, p2, mi\n",
        "    for i in range(ln_ax-1):\n",
        "        for j in range(i + 1, ln_ax):\n",
        "            if i != 0 and j != 1:\n",
        "                d = dist(ax[i], ax[j])\n",
        "                if d < mi:  # Update min_dist and points\n",
        "                    mi = d\n",
        "                    p1, p2 = ax[i], ax[j]\n",
        "    return p1, p2, mi\n",
        "\n",
        "\n",
        "def closest_pair(ax, ay):\n",
        "    ln_ax = len(ax)  # It's quicker to assign variable\n",
        "    if ln_ax <= 3:\n",
        "        return brute(ax)  # A call to bruteforce comparison\n",
        "    mid = ln_ax // 2  # Division without remainder, need int\n",
        "    Qx = ax[:mid]  # Two-part split\n",
        "    Rx = ax[mid:]\n",
        "\n",
        "    midpoint = ax[mid][0]\n",
        "    Qy = list()\n",
        "    Ry = list()\n",
        "    for x in ay:  # split ay into 2 arrays using midpoint\n",
        "        if x[0] < midpoint:\n",
        "           Qy.append(x)\n",
        "        else:\n",
        "           Ry.append(x)\n",
        "    # Call recursively both arrays after split\n",
        "    (p1, q1, mi1) = closest_pair(Qx, Qy)\n",
        "    (p2, q2, mi2) = closest_pair(Rx, Ry)\n",
        "\n",
        "    # Determine smaller distance between points of 2 arrays\n",
        "    if mi1 <= mi2:\n",
        "        d = mi1\n",
        "        mn = (p1, q1)\n",
        "    else:\n",
        "        d = mi2\n",
        "        mn = (p2, q2)\n",
        "\n",
        "    # Call function to account for points on the boundary\n",
        "    (p3, q3, mi3) = closest_split_pair(ax, ay, d, mn)\n",
        "    # Determine smallest distance for the array\n",
        "    if d <= mi3:\n",
        "        return mn[0], mn[1], d\n",
        "    else:\n",
        "        return p3, q3, mi3\n",
        "\n",
        "\n",
        "def solution(a):\n",
        "    ax = sorted(a, key=lambda x: x[0])  # Presorting x-wise O(nlogn)\n",
        "    ay = sorted(a, key=lambda x: (x[1], x[0]))  # Presorting y-wise then x-wise O(nlogn)\n",
        "    p1, p2, mi = closest_pair(ax, ay)  # Recursive D&C function\n",
        "    return mi\n",
        "\n",
        "\n",
        "# Input\n",
        "points = list()\n",
        "n = int(input())\n",
        "for i in range(n):\n",
        "    points.append([int(i) for i in input().split()])\n",
        "\n",
        "print(solution(points))"
      ],
      "metadata": {
        "id": "YRGb3-yZhjj7"
      },
      "execution_count": null,
      "outputs": []
    }
  ]
}