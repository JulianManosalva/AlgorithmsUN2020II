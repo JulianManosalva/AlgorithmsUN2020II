{
  "nbformat": 4,
  "nbformat_minor": 0,
  "metadata": {
    "colab": {
      "name": "AlgorithmicToolboxWeek3_Group4",
      "provenance": []
    },
    "kernelspec": {
      "name": "python3",
      "display_name": "Python 3"
    },
    "language_info": {
      "name": "python"
    }
  },
  "cells": [
    {
      "cell_type": "markdown",
      "source": [
        "# **1. Money Change**\n",
        "\n"
      ],
      "metadata": {
        "id": "UmXLxML1fkAh"
      }
    },
    {
      "cell_type": "code",
      "execution_count": 1,
      "metadata": {
        "colab": {
          "base_uri": "https://localhost:8080/"
        },
        "id": "_gL2YSmEfSyb",
        "outputId": "1623e729-aef6-4287-ae7e-f3cf078eed7c"
      },
      "outputs": [
        {
          "output_type": "stream",
          "name": "stdout",
          "text": [
            "4\n",
            "4\n"
          ]
        }
      ],
      "source": [
        "n = int(input())\n",
        "count = 0\n",
        "for i in [10, 5, 1]:\n",
        "    if n>=i:\n",
        "        q = n//i\n",
        "        count += q\n",
        "        n = n%i\n",
        "        if n==0:\n",
        "            print(count)\n",
        "            quit()"
      ]
    },
    {
      "cell_type": "markdown",
      "source": [
        "# **2. Maximum Value of the Loot (Fractional Knapsack)**\n"
      ],
      "metadata": {
        "id": "cX-_4O-lfvCb"
      }
    },
    {
      "cell_type": "code",
      "source": [
        "n, W = [int(i) for i in input().split()]\n",
        "lst = []\n",
        "\n",
        "if W == 0:\n",
        "    print(0)\n",
        "    quit()\n",
        "\n",
        "for _ in range(n):\n",
        "    v, w = [int(i) for i in input().split()]\n",
        "    if v == 0:\n",
        "        continue\n",
        "    lst.append((v, w))\n",
        "\n",
        "lst.sort(key = lambda x: x[0]/x[1], reverse = True)\n",
        "\n",
        "total_value = 0\n",
        "\n",
        "for v,w in lst:\n",
        "    if W==0:\n",
        "        print(total_value)\n",
        "        quit()\n",
        "    amt = min(w, W)\n",
        "    total_value += amt*v/w\n",
        "    W -= amt\n",
        "\n",
        "print(total_value)"
      ],
      "metadata": {
        "id": "KgFA_tqzfvf6"
      },
      "execution_count": null,
      "outputs": []
    },
    {
      "cell_type": "markdown",
      "source": [
        "# **3. Car Fueling**"
      ],
      "metadata": {
        "id": "0iCe4_MUgD_w"
      }
    },
    {
      "cell_type": "code",
      "source": [
        "%%writefile car_fueling.cpp\n",
        "#include<bits/stdc++.h>\n",
        "using namespace std;\n",
        "int main()\n",
        "{\n",
        "    long long d,m,n,i,nr=0,cr=0,lr; //d=distance between the cities , cr=currentrefill, \n",
        "    cin>>d>>m>>n;                   // m=max. distance by the car in a full tank\n",
        "    long long a[n+1];              //lr=lastrefill , nr=no. of refills\n",
        "    a[0]=0;                        // array a represents gas stations positions \n",
        "    for(i=1;i<=n;i++)\n",
        "    {\n",
        "        cin>>a[i];\n",
        "    }\n",
        "    a[n+1]=d;\n",
        "    while(cr<=n)                          //this algorithm is explained perfectly\n",
        "    {                                     //in the lecture\n",
        "        lr=cr;\n",
        "        while(cr<=n && a[cr+1]-a[lr]<=m)\n",
        "        {\n",
        "            cr=cr+1;\n",
        "        }\n",
        "        if(cr==lr)\n",
        "        {\n",
        "            cout<<\"-1\"<<endl;\n",
        "            break;\n",
        "        }\n",
        "        if(cr<=n)\n",
        "        {\n",
        "            nr=nr+1;\n",
        "        }\n",
        "    }\n",
        "    if(cr!=lr)\n",
        "    {\n",
        "    cout<<nr<<endl;\n",
        "    }\n",
        "}"
      ],
      "metadata": {
        "colab": {
          "base_uri": "https://localhost:8080/"
        },
        "id": "AZlXGzyygEep",
        "outputId": "9688d2c7-c3b7-48dd-f4b2-a51b8fb13ae2"
      },
      "execution_count": 1,
      "outputs": [
        {
          "output_type": "stream",
          "name": "stdout",
          "text": [
            "Writing car_fueling.cpp\n"
          ]
        }
      ]
    },
    {
      "cell_type": "code",
      "source": [
        "!g++ car_fueling.cpp -o car_fueling\n",
        "!./car_fueling"
      ],
      "metadata": {
        "colab": {
          "base_uri": "https://localhost:8080/"
        },
        "id": "ceRISd6Uh1wy",
        "outputId": "8e308365-0465-4da8-f4de-63efb712801c"
      },
      "execution_count": 4,
      "outputs": [
        {
          "output_type": "stream",
          "name": "stdout",
          "text": [
            "1\n",
            "23\n",
            "3\n",
            "4454\n",
            "3\n",
            "3\n",
            "-1\n"
          ]
        }
      ]
    },
    {
      "cell_type": "markdown",
      "source": [
        "# **4. Maximum Advertisement Revenue (Maximum Dot Product)**"
      ],
      "metadata": {
        "id": "fJw5v8MXhIW7"
      }
    },
    {
      "cell_type": "code",
      "source": [
        "n = int(input())\n",
        "a = [int(i) for i in input().split()]\n",
        "b = [int(i) for i in input().split()]\n",
        "a.sort()\n",
        "b.sort()\n",
        "ans = sum([a[i]*b[i] for i in range(n)])\n",
        "print(ans)"
      ],
      "metadata": {
        "colab": {
          "base_uri": "https://localhost:8080/"
        },
        "id": "wGIYdDrKhQYa",
        "outputId": "f0566e81-28ad-44c3-a856-2c1a3b4df475"
      },
      "execution_count": 2,
      "outputs": [
        {
          "output_type": "stream",
          "name": "stdout",
          "text": [
            "3\n",
            "1 3 4\n",
            "1 4 5\n",
            "33\n"
          ]
        }
      ]
    },
    {
      "cell_type": "markdown",
      "source": [
        "# **5. Collecting Signatures (Covering Segments by Points)**\n"
      ],
      "metadata": {
        "id": "MsQe7QpkhLGV"
      }
    },
    {
      "cell_type": "code",
      "source": [
        "n = int(input())\n",
        "lst = []\n",
        "\n",
        "for _ in range(n):\n",
        "    a, b = [int(i) for i in input().split()]\n",
        "    lst.append((a,b))\n",
        "\n",
        "lst.sort(key = lambda x: x[1])\n",
        "\n",
        "index = 0\n",
        "coordinates = []\n",
        "\n",
        "while index < n:\n",
        "    curr = lst[index]\n",
        "    while index < n-1 and curr[1]>=lst[index+1][0]:\n",
        "        index += 1\n",
        "    coordinates.append(curr[1])\n",
        "    index += 1\n",
        "print(len(coordinates))\n",
        "print(' '.join([str(i) for i in coordinates]))\n"
      ],
      "metadata": {
        "id": "f-X8nuWAhYOp"
      },
      "execution_count": null,
      "outputs": []
    },
    {
      "cell_type": "markdown",
      "source": [
        "# **6. Maximum Number of Prizes (Different Summands)**"
      ],
      "metadata": {
        "id": "rnn81WX_hY0v"
      }
    },
    {
      "cell_type": "code",
      "source": [
        "n = int(input())\n",
        "if n == 1:\n",
        "    print(1)\n",
        "    print(1)\n",
        "    quit()\n",
        "W = n\n",
        "prizes = []\n",
        "for i in range(1, n):\n",
        "    if W>2*i:\n",
        "        prizes.append(i)\n",
        "        W -= i\n",
        "    else:\n",
        "        prizes.append(W)\n",
        "        break\n",
        "\n",
        "print(len(prizes))\n",
        "print(' '.join([str(i) for i in prizes]))\n"
      ],
      "metadata": {
        "id": "7uQ89PE4hfgU"
      },
      "execution_count": null,
      "outputs": []
    },
    {
      "cell_type": "markdown",
      "source": [
        "# **7. Maximum Salary (Largest Number)**"
      ],
      "metadata": {
        "id": "GFFuJqjThgFU"
      }
    },
    {
      "cell_type": "code",
      "source": [
        "n = int(input())\n",
        "lst = [int(i) for i in input().split()]\n",
        "\n",
        "\n",
        "def IsGreaterOrEqual(digit, max_digit):\n",
        "    return int(str(digit)+str(max_digit))>=int(str(max_digit)+str(digit))\n",
        "\n",
        "def largestnumber(lst):\n",
        "    answer = []\n",
        "    \n",
        "    while lst!=[]:\n",
        "        max_digit = 0\n",
        "        for digit in lst:\n",
        "            if IsGreaterOrEqual(digit, max_digit):\n",
        "                max_digit = digit\n",
        "        answer.append(max_digit)\n",
        "        lst.remove(max_digit)\n",
        "\n",
        "    return answer\n",
        "\n",
        "print(''.join([str(i) for i in largestnumber(lst)]))\n"
      ],
      "metadata": {
        "id": "YRGb3-yZhjj7"
      },
      "execution_count": null,
      "outputs": []
    }
  ]
}