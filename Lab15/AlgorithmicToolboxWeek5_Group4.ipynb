{
  "nbformat": 4,
  "nbformat_minor": 0,
  "metadata": {
    "colab": {
      "name": "AlgorithmicToolboxWeek5_Group4",
      "provenance": []
    },
    "kernelspec": {
      "name": "python3",
      "display_name": "Python 3"
    },
    "language_info": {
      "name": "python"
    }
  },
  "cells": [
    {
      "cell_type": "markdown",
      "source": [
        "# **1. Money Change Again**\n",
        "\n"
      ],
      "metadata": {
        "id": "UmXLxML1fkAh"
      }
    },
    {
      "cell_type": "code",
      "source": [
        "import sys\n",
        "import numpy\n",
        "\n",
        "def get_change(m):\n",
        "    mincoins=numpy.zeros((m+1),dtype=int)\n",
        "    for x in range(1,m+1):\n",
        "        listt=[]\n",
        "        for y in [1,3,4]:\n",
        "            if x>=y:\n",
        "                listt.append(mincoins[x-y]+1)\n",
        "        mincoins[x]=min(listt)\n",
        "    return mincoins[m]\n",
        "\n",
        "\n",
        "\n",
        "if __name__ == '__main__':\n",
        "    a = int(sys.stdin.read())\n",
        "    print(get_change(a))"
      ],
      "metadata": {
        "id": "n5b1BS-BlZdX"
      },
      "execution_count": null,
      "outputs": []
    },
    {
      "cell_type": "markdown",
      "source": [
        "# **2. Primitive Calculator**\n",
        "\n"
      ],
      "metadata": {
        "id": "m45NvdNrldd0"
      }
    },
    {
      "cell_type": "code",
      "source": [
        "# Uses python3\n",
        "import sys\n",
        "import numpy\n",
        "def optimal_sequence(n):\n",
        "    min_ca=numpy.zeros((n+1),dtype=int)\n",
        "    for each in range(2,n+1):\n",
        "        listt=[]\n",
        "        if each%3==0:\n",
        "            listt.append(min_ca[each//3]+1)\n",
        "        if each%2==0:\n",
        "            listt.append(min_ca[each//2]+1)\n",
        "        listt.append(min_ca[each-1]+1)\n",
        "        min_ca[each]=min(listt)\n",
        "    return min_ca\n",
        "def OutputAlignment(n,min_ca):\n",
        "    if n==1:\n",
        "        print(1,end=' ')\n",
        "        return\n",
        "    if n%3==0 and min_ca[n]==min_ca[n//3]+1:\n",
        "        OutputAlignment(n//3,min_ca)\n",
        "        print(n,end=' ')\n",
        "    elif n%2==0 and min_ca[n]==min_ca[n//2]+1:\n",
        "        OutputAlignment(n//2,min_ca)\n",
        "        print(n,end=' ')\n",
        "    else:\n",
        "        OutputAlignment(n-1,min_ca)\n",
        "        print(n,end=' ')\n",
        "input = sys.stdin.read()\n",
        "x = int(input)\n",
        "y =optimal_sequence(x)\n",
        "print(y[x])# Uses python3\n",
        "import sys\n",
        "import numpy\n",
        "def optimal_sequence(n):\n",
        "    min_ca=numpy.zeros((n+1),dtype=int)\n",
        "    for each in range(2,n+1):\n",
        "        listt=[]\n",
        "        if each%3==0:\n",
        "            listt.append(min_ca[each//3]+1)\n",
        "        if each%2==0:\n",
        "            listt.append(min_ca[each//2]+1)\n",
        "        listt.append(min_ca[each-1]+1)\n",
        "        min_ca[each]=min(listt)\n",
        "    return min_ca\n",
        "def OutputAlignment(n,min_ca):\n",
        "    if n==1:\n",
        "        print(1,end=' ')\n",
        "        return\n",
        "    if n%3==0 and min_ca[n]==min_ca[n//3]+1:\n",
        "        OutputAlignment(n//3,min_ca)\n",
        "        print(n,end=' ')\n",
        "    elif n%2==0 and min_ca[n]==min_ca[n//2]+1:\n",
        "        OutputAlignment(n//2,min_ca)\n",
        "        print(n,end=' ')\n",
        "    else:\n",
        "        OutputAlignment(n-1,min_ca)\n",
        "        print(n,end=' ')\n",
        "input = sys.stdin.read()\n",
        "x = int(input)\n",
        "y =optimal_sequence(x)\n",
        "print(y[x])\n",
        "OutputAlignment(x,y)\n",
        "OutputAlignment(x,y)"
      ],
      "metadata": {
        "id": "YYdT9Gtnlv0_"
      },
      "execution_count": null,
      "outputs": []
    },
    {
      "cell_type": "markdown",
      "source": [
        "# **3. Edit Distance**"
      ],
      "metadata": {
        "id": "xn8-Il6xl09l"
      }
    },
    {
      "cell_type": "code",
      "source": [
        "import numpy\n",
        "\n",
        "def edit_distance(A, B):\n",
        "    m=len(A)\n",
        "    n=len(B)\n",
        "    D=numpy.zeros((m+1,n+1),dtype=int)\n",
        "    for i in range(n+1):\n",
        "        D[0,i]=i\n",
        "    for i in range(m+1):\n",
        "        D[i,0]=i\n",
        "    for j in range(1,n+1):\n",
        "        for i in range(1,m+1):\n",
        "            insertion=D[i,j-1]+1\n",
        "            deletion=D[i-1,j]+1\n",
        "            match=D[i-1,j-1]\n",
        "            mismatch=D[i-1,j-1]+1\n",
        "            if A[i-1]==B[j-1]:\n",
        "                D[i,j]=min(insertion,deletion,match)\n",
        "            else:\n",
        "                D[i,j]=min(insertion,deletion,mismatch)\n",
        "    return D[m,n]\n",
        "\n",
        "if __name__ == \"__main__\":\n",
        "    print(edit_distance(input(), input()))"
      ],
      "metadata": {
        "id": "4b2lU8B2l-gr"
      },
      "execution_count": null,
      "outputs": []
    },
    {
      "cell_type": "markdown",
      "source": [
        "# **4. Longest Common Subsequence of Two Sequence**"
      ],
      "metadata": {
        "id": "fJw5v8MXhIW7"
      }
    },
    {
      "cell_type": "code",
      "source": [
        "import sys\n",
        "import numpy\n",
        "\n",
        "def lcs2(a, b):\n",
        "    m=len(a)\n",
        "    n=len(b)\n",
        "    D=numpy.zeros((m+1,n+1),dtype=int)\n",
        "    for j in range(1,n+1):\n",
        "        for i in range(1,m+1):\n",
        "            insertion=D[i,j-1]\n",
        "            deletion=D[i-1,j]\n",
        "            match=D[i-1,j-1]+1\n",
        "            mismatch=D[i-1,j-1]\n",
        "            if a[i-1]==b[j-1]:\n",
        "                D[i,j]=max(insertion,deletion,match)\n",
        "            else:\n",
        "                D[i,j]=max(insertion,deletion,mismatch)\n",
        "    return D[m,n]\n",
        "\n",
        "if __name__ == '__main__':\n",
        "    data = list(map(int, sys.stdin.read().split()))\n",
        "    n = data[0]\n",
        "    data = data[1:]\n",
        "    a = data[:n]\n",
        "    data = data[n:]\n",
        "    m = data[0]\n",
        "    data = data[1:]\n",
        "    b = data[:m]\n",
        "    print(lcs2(a, b))"
      ],
      "metadata": {
        "id": "HBoVHJMPmCPp"
      },
      "execution_count": null,
      "outputs": []
    },
    {
      "cell_type": "markdown",
      "source": [
        "# **5. Longest Common Subsequence of Three Sequence**\n"
      ],
      "metadata": {
        "id": "MsQe7QpkhLGV"
      }
    },
    {
      "cell_type": "code",
      "source": [
        "import sys\n",
        "import numpy\n",
        "\n",
        "def lcs3(a, b, c):\n",
        "    m=len(a)\n",
        "    n=len(b)\n",
        "    l=len(c)\n",
        "    D=numpy.zeros((m+1,n+1,l+1),dtype=int)\n",
        "    for k in range(1,l+1):\n",
        "        for j in range(1,n+1):\n",
        "            for i in range(1,m+1):\n",
        "                insertion=D[i,j-1,k]\n",
        "                deletion=D[i-1,j,k]\n",
        "                match_=D[i,j,k-1]\n",
        "                mismatch=D[i-1,j-1,k-1]\n",
        "                insertion_=D[i,j-1,k-1]\n",
        "                deletion_=D[i-1,j,k-1]\n",
        "                match=D[i-1,j-1,k-1]+1\n",
        "                mismatch_=D[i-1,j-1,k]\n",
        "                if a[i-1]==b[j-1]==c[k-1]:\n",
        "                    D[i,j,k]=max(insertion,deletion,insertion_,deletion_,match,match_,mismatch_)\n",
        "                else:\n",
        "                    D[i,j,k]=max(insertion,deletion,insertion_,deletion_,mismatch,match_,mismatch_)\n",
        "    return D[m,n,l]\n",
        "\n",
        "if __name__ == '__main__':\n",
        "    data = list(map(int, sys.stdin.read().split()))\n",
        "    an = data[0]\n",
        "    data = data[1:]\n",
        "    a = data[:an]\n",
        "    data = data[an:]\n",
        "    bn = data[0]\n",
        "    data = data[1:]\n",
        "    b = data[:bn]\n",
        "    data = data[bn:]\n",
        "    cn = data[0]\n",
        "    data = data[1:]\n",
        "    c = data[:cn]\n",
        "    print(lcs3(a, b, c))"
      ],
      "metadata": {
        "id": "f-X8nuWAhYOp"
      },
      "execution_count": null,
      "outputs": []
    }
  ]
}