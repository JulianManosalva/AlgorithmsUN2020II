{
  "nbformat": 4,
  "nbformat_minor": 0,
  "metadata": {
    "colab": {
      "name": "AlgorithmicToolboxWeek6_Group4",
      "provenance": []
    },
    "kernelspec": {
      "name": "python3",
      "display_name": "Python 3"
    },
    "language_info": {
      "name": "python"
    }
  },
  "cells": [
    {
      "cell_type": "markdown",
      "source": [
        "# **1. Maximum Amount of Gold**\n",
        "\n"
      ],
      "metadata": {
        "id": "UmXLxML1fkAh"
      }
    },
    {
      "cell_type": "code",
      "source": [
        "import sys\n",
        "import numpy\n",
        "\n",
        "def optimal_weight(W, w, n):\n",
        "    weights=numpy.zeros((W+1,n+1),dtype=int)\n",
        "    for j in range(1,n+1):\n",
        "        for weight in range(1,W+1):\n",
        "            listt=[weights[weight,j-1]]\n",
        "            if w[j-1]<=weight:\n",
        "                listt.append(weights[weight-w[j-1],j-1]+w[j-1])\n",
        "            weights[weight,j]=max(listt)\n",
        "    return(weights[W,n])\n",
        "\n",
        "if __name__ == '__main__':\n",
        "    input = sys.stdin.read()\n",
        "    W, n, *w = list(map(int, input.split()))\n",
        "    print(optimal_weight(W, w, n))"
      ],
      "metadata": {
        "id": "n5b1BS-BlZdX"
      },
      "execution_count": null,
      "outputs": []
    },
    {
      "cell_type": "markdown",
      "source": [
        "# **2. Partitioning Souvenirsr**\n",
        "\n"
      ],
      "metadata": {
        "id": "m45NvdNrldd0"
      }
    },
    {
      "cell_type": "code",
      "source": [
        "def maxWeight(cap, items):\n",
        "    n = len(items)\n",
        "    T = [[0] * (cap + 1) for _ in range(n + 1)]\n",
        "    for i in range(1, n + 1):\n",
        "        for w in range(1, cap + 1):\n",
        "            T[i][w] = T[i - 1][w]\n",
        "            if w >= items[i - 1]:\n",
        "                weight = T[i - 1][w - items[i - 1]] + items[i - 1]\n",
        "                if weight > T[i][w]:\n",
        "                    T[i][w] = weight\n",
        "    return T\n",
        "\n",
        "\n",
        "def optimalSolution(T, cap, items):\n",
        "    n = len(items)\n",
        "    i = n\n",
        "    w = cap\n",
        "    used_items = []\n",
        "    while i > 0 and w > 0:\n",
        "        if T[i][w] == T[i - 1][w]:\n",
        "            i = i - 1\n",
        "        else:\n",
        "            used_items.append(i - 1)\n",
        "            w = w - items[i - 1]\n",
        "            i = i - 1\n",
        "    return used_items\n",
        "\n",
        "\n",
        "def partitionK(cap, items,k):\n",
        "    if cap % k != 0:\n",
        "        return 0\n",
        "    else:\n",
        "        cap = cap // k\n",
        "    for bag in range(k - 1):\n",
        "        T = maxWeight(cap, items)\n",
        "        \n",
        "        if T[len(items)][cap] != cap:\n",
        "            return 0\n",
        "        else:\n",
        "            used_items = optimalSolution(T, cap, items)\n",
        "            for index in used_items:\n",
        "                items.pop(index)\n",
        "        \n",
        "    return 1\n",
        "\n",
        "\n",
        "n = int(input())\n",
        "num = input()\n",
        "nums = list(map(int, num.split()))\n",
        "total = sum(nums)\n",
        "print(partitionK(total, nums, 3))"
      ],
      "metadata": {
        "id": "YYdT9Gtnlv0_"
      },
      "execution_count": null,
      "outputs": []
    },
    {
      "cell_type": "markdown",
      "source": [
        "# **3. Maximum Value of an Arithmetic Expression**"
      ],
      "metadata": {
        "id": "xn8-Il6xl09l"
      }
    },
    {
      "cell_type": "code",
      "source": [
        "def evalt(a, b, op):\n",
        "    if op == '+':\n",
        "        return a + b\n",
        "    elif op == '-':\n",
        "        return a - b\n",
        "    elif op == '*':\n",
        "        return a * b\n",
        "    else:\n",
        "        assert False\n",
        "\n",
        "def MinMax(i, j, op, m, M):\n",
        "    mmin = float(\"inf\")\n",
        "    mmax = float(\"-inf\")\n",
        "    for k in range(i, j):\n",
        "        a = evalt(M[i][k], M[k+1][j], op[k])\n",
        "        b = evalt(M[i][k], m[k+1][j], op[k])\n",
        "        c = evalt(m[i][k], M[k+1][j], op[k])\n",
        "        d = evalt(m[i][k], m[k+1][j], op[k])\n",
        "        mmin = min(mmin, a, b, c, d)\n",
        "        mmax = max(mmax, a, b, c, d)\n",
        "    return(mmin, mmax)\n",
        "\n",
        "def get_maximum_value(dataset):\n",
        "    op = dataset[1:len(dataset):2]\n",
        "    digit = dataset[0:len(dataset)+1:2]\n",
        "    n = len(digit)\n",
        "    m = [[0 for i in range(n)] for j in range(n)]\n",
        "    M = [[0 for i in range(n)] for j in range(n)]\n",
        "    for i in range(n):\n",
        "        m[i][i] = int(digit[i])\n",
        "        M[i][i] = int(digit[i])\n",
        "    for s in range(1, n):\n",
        "        for i in range(n-s):\n",
        "            j = i + s\n",
        "            m[i][j], M[i][j] = MinMax(i,j,op,m,M)\n",
        "    return M[0][n-1]\n",
        "\n",
        "\n",
        "if __name__ == \"__main__\":\n",
        "    print(get_maximum_value(input()))"
      ],
      "metadata": {
        "id": "4b2lU8B2l-gr"
      },
      "execution_count": null,
      "outputs": []
    }
  ]
}